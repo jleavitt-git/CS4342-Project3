{
 "cells": [
  {
   "cell_type": "code",
   "execution_count": 3,
   "outputs": [],
   "source": [
    "import numpy as np\n",
    "import matplotlib.pyplot as plt\n",
    "\n",
    "# Given training and testing data, learning rate epsilon, batch size, and regularization strength alpha,\n",
    "# conduct stochastic gradient descent (SGD) to optimize the weight matrix Wtilde (785x10).\n",
    "# Then return Wtilde.\n",
    "def softmaxRegression (trainingImages, trainingLabels, testingImages, testingLabels, epsilon, batchSize, alpha):\n",
    "    n = np.shape(trainingImages)[1]\n",
    "    m_features = np.shape(trainingImages)[0] #785\n",
    "    l_labels = np.shape(trainingLabels)[1] #10\n",
    "    W = .00001 * np.random.randn(m_features, l_labels)\n",
    "    shuffle = np.random.permutation(n)\n",
    "    m_shuffled = trainingImages[:, shuffle]\n",
    "    labels_shuffled = trainingLabels[:, shuffle]\n",
    "    num_epochs = 5\n",
    "    for e in range(num_epochs):\n",
    "        for i in range((n/batchSize) - 1):\n",
    "            ntilde = m_shuffled[: , i*batchSize:(i*batchSize) + batchSize]\n",
    "            W = W - epsilon * gradfMSE(W, ntilde, labels_shuffled, alpha)\n",
    "    return W\n"
   ],
   "metadata": {
    "collapsed": false
   }
  },
  {
   "cell_type": "code",
   "execution_count": 47,
   "outputs": [],
   "source": [
    "def accuracy (wtilde, Xtilde, y):\n",
    "    X = np.transpose(Xtilde)\n",
    "    yhat = np.dot(X, wtilde)\n",
    "    print (yhat)\n",
    "    predictions = yhat.argmax(axis=1)\n",
    "    actual = y.argmax(axis=1)\n",
    "    return np.mean(predictions == actual)"
   ],
   "metadata": {
    "collapsed": false
   }
  },
  {
   "cell_type": "code",
   "execution_count": null,
   "outputs": [],
   "source": [
    "# Given a vector of weights w, a design matrix Xtilde, and a vector of labels y, and a regularization strength\n",
    "# alpha (default value of 0), return the gradient of the (regularized) MSE loss.\n",
    "def gradfMSE (wtilde, Xtilde, y, alpha = 0.):\n",
    "    X = np.transpose(Xtilde)\n",
    "    shape = np.shape(X)\n",
    "    n = shape[0]\n",
    "    wtilde_remove_bias = wtilde.copy()\n",
    "    wtilde_remove_bias[-1] = 0\n",
    "    Z = np.exp(np.dot(X, wtilde))\n",
    "    yhat = (Z / np.sum(Z, axis = 1))\n",
    "    return (1/n) * np.dot(Xtilde, (yhat - y)) + (alpha/n) * wtilde_remove_bias"
   ],
   "metadata": {
    "collapsed": false
   }
  },
  {
   "cell_type": "code",
   "execution_count": 33,
   "outputs": [],
   "source": [
    "def reshapeAndAppend1s (faces):\n",
    "    shape = np.shape(faces)\n",
    "    N = shape[0]\n",
    "    #print (N) #60000\n",
    "    M = shape[1]\n",
    "    #print (M) #784\n",
    "    transposed = np.array(np.transpose(faces))\n",
    "    reshaped = np.array(transposed.reshape(M, N))\n",
    "    new_row = np.ones(N)\n",
    "    xtilde = np.array(np.vstack([reshaped, new_row]))\n",
    "    return xtilde"
   ],
   "metadata": {
    "collapsed": false
   }
  },
  {
   "cell_type": "code",
   "execution_count": 34,
   "outputs": [],
   "source": [
    "def reshapeLabelVectors (labels):\n",
    "    shape = np.shape(labels)\n",
    "    N = shape[0]\n",
    "    oneHotMatrix = np.zeros(shape= (N,10))\n",
    "    oneHotMatrix[np.arange(N), labels] = 1\n",
    "    return oneHotMatrix\n"
   ],
   "metadata": {
    "collapsed": false
   }
  },
  {
   "cell_type": "code",
   "execution_count": 39,
   "outputs": [
    {
     "name": "stdout",
     "output_type": "stream",
     "text": [
      "(785, 60000)\n",
      "(60000, 10)\n"
     ]
    }
   ],
   "source": [
    "if __name__ == \"__main__\":\n",
    "    # Load data\n",
    "    trainingImages = np.load(\"fashion_mnist_train_images.npy\") / 255.0  # Normalizing by 255 helps accelerate training\n",
    "    trainingLabels = np.load(\"fashion_mnist_train_labels.npy\")\n",
    "    testingImages = np.load(\"fashion_mnist_test_images.npy\") / 255.0  # Normalizing by 255 helps accelerate training\n",
    "    testingLabels = np.load(\"fashion_mnist_test_labels.npy\")\n",
    "\n",
    "    # Append a constant 1 term to each example to correspond to the bias terms\n",
    "    # ...\n",
    "    trainImages = reshapeAndAppend1s(trainingImages)\n",
    "    print (np.shape(trainImages))\n",
    "    testImages = reshapeAndAppend1s(testingImages)\n",
    "\n",
    "    # Change from 0-9 labels to \"one-hot\" binary vector labels. For instance,\n",
    "    # if the label of some example is 3, then its y should be [ 0, 0, 0, 1, 0, 0, 0, 0, 0, 0 ]\n",
    "    # ...\n",
    "    trainLabels = reshapeLabelVectors(trainingLabels)\n",
    "    testLabels = reshapeLabelVectors(testingLabels)\n",
    "    print (np.shape(trainLabels))\n",
    "    # Train the model\n",
    "    Wtilde = softmaxRegression(trainingImages, trainingLabels, testingImages, testingLabels, epsilon=0.1, batchSize=100, alpha=.1)\n",
    "\n",
    "    # Visualize the vectors\n",
    "    # ..."
   ],
   "metadata": {
    "collapsed": false
   }
  },
  {
   "cell_type": "code",
   "execution_count": 57,
   "outputs": [
    {
     "name": "stdout",
     "output_type": "stream",
     "text": [
      "[[1.6  1.24 1.24 1.28]\n",
      " [1.1  0.92 0.83 0.94]\n",
      " [1.3  1.03 1.03 1.06]\n",
      " [1.2  0.84 0.84 0.88]\n",
      " [0.9  0.63 0.63 0.66]]\n",
      "0.4\n"
     ]
    }
   ],
   "source": [
    "wtilde = np.array([[1, 1, 1, 1],\n",
    "                  [1, .1, 1, .2],\n",
    "                  [1, 1, .1, 1]])\n",
    "xtilde = np.array([[.8, .6, .7, .4, .3],\n",
    "                   [.4, .2, .3, .4, .3],\n",
    "                  [.4, .3, .3,.4, .3]])\n",
    "y = np.array([[.2, .3, .4, .5],\n",
    "            [.9, .2, .1, .1],\n",
    "            [.4, .4, .6, .2],\n",
    "             [.2, .4, .1, .1],\n",
    "            [.5, .4, .3, .1]])\n",
    "\n",
    "print (accuracy(wtilde,xtilde,y))"
   ],
   "metadata": {
    "collapsed": false
   }
  }
 ],
 "metadata": {
  "kernelspec": {
   "display_name": "Python 3",
   "language": "python",
   "name": "python3"
  },
  "language_info": {
   "codemirror_mode": {
    "name": "ipython",
    "version": 2
   },
   "file_extension": ".py",
   "mimetype": "text/x-python",
   "name": "python",
   "nbconvert_exporter": "python",
   "pygments_lexer": "ipython2",
   "version": "2.7.6"
  }
 },
 "nbformat": 4,
 "nbformat_minor": 0
}
